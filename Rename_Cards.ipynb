{
 "cells": [
  {
   "cell_type": "markdown",
   "metadata": {},
   "source": [
    "# Renaming Cards in Directory\n",
    "\n"
   ]
  },
  {
   "cell_type": "markdown",
   "metadata": {},
   "source": [
    "Import libraries"
   ]
  },
  {
   "cell_type": "code",
   "execution_count": 6,
   "metadata": {},
   "outputs": [],
   "source": [
    "import os\n",
    "from tqdm import tqdm\n",
    "import os\n",
    "from glob import glob "
   ]
  },
  {
   "cell_type": "code",
   "execution_count": 13,
   "metadata": {},
   "outputs": [],
   "source": [
    "card_dir=\"cards\" # Directory that will contain all kinds of data (the data we download and the data we generate)\n",
    "\n",
    "if not os.path.isdir(card_dir):\n",
    "    print(\"NO CARD DIRECTORY EXISTS!\")\n",
    "\n",
    "card_suits=['s','d','c','h']\n",
    "card_values=['A','2','3','4','5','6','7','8','9','10','J','Q','K']"
   ]
  },
  {
   "cell_type": "code",
   "execution_count": 23,
   "metadata": {},
   "outputs": [],
   "source": [
    "card_list = []\n",
    "for f in glob(card_dir+\"/*.jpg\"):\n",
    "    card_list.append(f)\n",
    "card_list.sort()\n",
    "\n",
    "cnt = 0\n",
    "\n",
    "for suit in card_suits:\n",
    "    for val in card_values:\n",
    "        new_name = val+suit+\".jpg\"\n",
    "#         os.rename(card_list[cnt], os.path.join(card_dir, new_name))\n",
    "        cnt += 1"
   ]
  },
  {
   "cell_type": "code",
   "execution_count": null,
   "metadata": {},
   "outputs": [],
   "source": []
  }
 ],
 "metadata": {
  "kernelspec": {
   "display_name": "Python 3",
   "language": "python",
   "name": "python3"
  },
  "language_info": {
   "codemirror_mode": {
    "name": "ipython",
    "version": 3
   },
   "file_extension": ".py",
   "mimetype": "text/x-python",
   "name": "python",
   "nbconvert_exporter": "python",
   "pygments_lexer": "ipython3",
   "version": "3.7.4"
  }
 },
 "nbformat": 4,
 "nbformat_minor": 4
}
